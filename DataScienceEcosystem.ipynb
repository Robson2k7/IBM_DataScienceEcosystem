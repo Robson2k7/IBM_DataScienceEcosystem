{
 "cells": [
  {
   "cell_type": "markdown",
   "id": "10038e1a-badd-45c4-af8a-e5a9d5a668e6",
   "metadata": {},
   "source": [
    "# Data Science Tools and Ecosystem"
   ]
  },
  {
   "cell_type": "markdown",
   "id": "dcf6c793-3949-4445-a3a0-8cfac9805318",
   "metadata": {},
   "source": [
    "In this notebook, Data Science Tools and Ecosystem are summarized."
   ]
  },
  {
   "cell_type": "markdown",
   "id": "bdef4ee1-bf31-4945-b993-b76ae6f85f62",
   "metadata": {},
   "source": [
    "**Objectives:**\n",
    "- List of popular languages for Data Science\n",
    "- List popular libraries for Data Science\n",
    "- Table popular Data Science tools\n",
    "- Examples of evaluating arithmetic expressions in Python\n"
   ]
  },
  {
   "cell_type": "markdown",
   "id": "1827f866-ae99-473c-8cc9-b1ad107fd4a8",
   "metadata": {},
   "source": [
    "Some of the popular languages that Data Scientists use are:\n",
    "1. Python\n",
    "2. R\n",
    "3. Scala\n",
    "4. SQL\n"
   ]
  },
  {
   "cell_type": "markdown",
   "id": "a47f26f8-f0d6-457c-9c9a-d2ba2d7114ba",
   "metadata": {},
   "source": [
    "Some of the commonly used libraries used by Data Scientists include:\n",
    "1. Pandas\n",
    "2. NumPy\n",
    "3. Matplotlib\n",
    "4. Seaborn\n",
    "5. Scikit-learn\n",
    "6. Keras\n",
    "7. TensorFlow\n",
    "8. PyTorch\n",
    "9. Vegas\n",
    "10. ggplot2"
   ]
  },
  {
   "cell_type": "markdown",
   "id": "3b9b19fb-b346-4588-b7be-7950f5412c64",
   "metadata": {},
   "source": [
    "|Data Science Tools|\n",
    "|------------------|\n",
    "|Jupyter Notebook|\n",
    "|RStudio|\n",
    "|Spyder|"
   ]
  },
  {
   "cell_type": "markdown",
   "id": "f0d45dae-9d31-49f6-8516-96b1b262e1c1",
   "metadata": {},
   "source": [
    "### Below are a few examples of evaluating arithmetic expressions in Python."
   ]
  },
  {
   "cell_type": "code",
   "execution_count": 1,
   "id": "dd6a6ec0-810d-495d-acdc-6f2ada0f092d",
   "metadata": {
    "tags": []
   },
   "outputs": [
    {
     "data": {
      "text/plain": [
       "17"
      ]
     },
     "execution_count": 1,
     "metadata": {},
     "output_type": "execute_result"
    }
   ],
   "source": [
    "# This a simple arithmetic expression to mutiply then add integers\n",
    "(3*4)+5"
   ]
  },
  {
   "cell_type": "code",
   "execution_count": 2,
   "id": "635103b2-f8a4-4215-8a69-d35098815d3a",
   "metadata": {
    "tags": []
   },
   "outputs": [
    {
     "data": {
      "text/plain": [
       "3.3333333333333335"
      ]
     },
     "execution_count": 2,
     "metadata": {},
     "output_type": "execute_result"
    }
   ],
   "source": [
    "# This will convert 200 minutes to hours by diving by 60\n",
    "200/60"
   ]
  },
  {
   "cell_type": "code",
   "execution_count": 4,
   "id": "0e929ad4-71a7-4a44-a3a8-d620b6ee1696",
   "metadata": {
    "tags": []
   },
   "outputs": [
    {
     "name": "stdout",
     "output_type": "stream",
     "text": [
      "3.3333333333333335\n"
     ]
    }
   ],
   "source": [
    "# another example\n",
    "minutes = 200\n",
    "hour = 60\n",
    "hours = minutes/hour\n",
    "print(hours)"
   ]
  },
  {
   "cell_type": "markdown",
   "id": "485594b4-bb14-482e-9283-c0c6e1b04e8b",
   "metadata": {},
   "source": [
    "## Author\n",
    "Robert Polony"
   ]
  },
  {
   "cell_type": "code",
   "execution_count": null,
   "id": "07c5a741-f5c2-4292-9daf-b3ac83b6fde4",
   "metadata": {},
   "outputs": [],
   "source": []
  }
 ],
 "metadata": {
  "kernelspec": {
   "display_name": "Python",
   "language": "python",
   "name": "conda-env-python-py"
  },
  "language_info": {
   "codemirror_mode": {
    "name": "ipython",
    "version": 3
   },
   "file_extension": ".py",
   "mimetype": "text/x-python",
   "name": "python",
   "nbconvert_exporter": "python",
   "pygments_lexer": "ipython3",
   "version": "3.7.12"
  }
 },
 "nbformat": 4,
 "nbformat_minor": 5
}
